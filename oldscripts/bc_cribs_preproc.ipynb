{
 "cells": [
  {
   "cell_type": "markdown",
   "metadata": {},
   "source": [
    "# Workflow for processing DAS data from soil desiccation at \n",
    "# BC cribs and trenches on the 200 West Hanford Site"
   ]
  },
  {
   "cell_type": "markdown",
   "metadata": {},
   "source": [
    "Read in Hdf5 files"
   ]
  },
  {
   "cell_type": "code",
   "execution_count": null,
   "metadata": {},
   "outputs": [],
   "source": [
    "S = read_data(\"Hdf5\",\"filename\")"
   ]
  },
  {
   "cell_type": "markdown",
   "metadata": {},
   "source": [
    "# Merge and ungap"
   ]
  },
  {
   "cell_type": "code",
   "execution_count": null,
   "metadata": {},
   "outputs": [],
   "source": [
    "merge!(S)\n",
    "ungap!(S)"
   ]
  },
  {
   "cell_type": "markdown",
   "metadata": {},
   "source": [
    "## Downsample data \n",
    "- Removes mean from each channel in S.\n",
    "- Detrends each channel in S.\n",
    "- Downsamples data to sampling rate fs\n",
    "- Phase-shifts data to begin at 00:00:00.0\n",
    "- This is important for data that does not begin exactly on the sampling rate, e.g. the starttime is 2006-02-01T00:00:00.020."
   ]
  },
  {
   "cell_type": "code",
   "execution_count": null,
   "metadata": {},
   "outputs": [],
   "source": [
    "fs = 20.\n",
    "process_raw!(S,fs)"
   ]
  },
  {
   "cell_type": "markdown",
   "metadata": {},
   "source": [
    "Note that now S has sampling rate fs = 20.0, \n",
    "has half as many points (nx = XXXX) as before and the starttime has changed to XXXX.\n",
    "Detrending and Demeaning\n",
    "The demean and detrend functions are applied column wise."
   ]
  },
  {
   "cell_type": "markdown",
   "metadata": {},
   "source": [
    "# Detrend and Demean"
   ]
  },
  {
   "cell_type": "code",
   "execution_count": null,
   "metadata": {},
   "outputs": [],
   "source": [
    "# may need to reshape\n",
    "A = reshape(collect(1.:10.),5,2) # this would reshape to a 5,2"
   ]
  },
  {
   "cell_type": "code",
   "execution_count": null,
   "metadata": {},
   "outputs": [],
   "source": [
    "demean(A)\n",
    "detrend(A)"
   ]
  },
  {
   "cell_type": "markdown",
   "metadata": {},
   "source": [
    "demean and detrend also work on RawData and CorrData structure. If R is a RawData, \n",
    "then the windowed data stored in R.x can be detrended in-place using"
   ]
  },
  {
   "cell_type": "code",
   "execution_count": null,
   "metadata": {},
   "outputs": [],
   "source": [
    "detrend!(R)\n",
    "# or allocated to a new RawData using\n",
    "Rd = detrend(R)"
   ]
  },
  {
   "cell_type": "markdown",
   "metadata": {},
   "source": [
    "# Amplitude Normalization\n",
    "Time-domain normalization is used to suppress high-amplitude signals, such as earthquakes or instrumental irregularities. \n",
    "SeisNoise provides time-normalization functions for:\n",
    "- one-bit normalization: onebit\n",
    "- clipping: clip\n",
    "- running mean normalization: smooth\n",
    "- suppressing high-amplitude signals: mute"
   ]
  },
  {
   "cell_type": "markdown",
   "metadata": {},
   "source": [
    "# Filtering a RawData or CorrData"
   ]
  },
  {
   "cell_type": "markdown",
   "metadata": {},
   "source": [
    "julia> freqmin, freqmax = 1., 10. # low and high frequencies in Hz\n",
    "julia> ncorners = 4 # number of corners in Butterworth filter\n",
    "julia> zerophase = true # if true, apply filter twice for no phase shifting\n",
    "julia> S = get_data(\"IRIS\",\"TA.V04C..BHZ\",s=\"2006-02-01T00:00:00\",t=\"2006-02-01T01:00:00\")\n",
    "julia> SeisIO.demean!(S) # remove mean\n",
    "julia> SeisIO.detrend!(S) # remove linear trend\n",
    "julia> SeisIO.taper!(S) # taper - defaults to 5% taper on either side of the trace\n",
    "julia> bandpass(S,freqmin,freqmax,corners=corners,zerophase=zerophase)"
   ]
  },
  {
   "cell_type": "markdown",
   "metadata": {},
   "source": [
    "# Filtering\n",
    "SeisNoise.jl provides bandpass, bandstop, lowpass and highpass filters built from DSP.jl\n",
    "Due to multiple dispatch in Julia, filter functions in SeisNoise.jl work on either the data in RawData or CorrData objects or \n",
    "directly with Julia Arrays. SeisNoise.jl uses Butterworth filters with a default of 4 corners."
   ]
  },
  {
   "cell_type": "markdown",
   "metadata": {},
   "source": []
  }
 ],
 "metadata": {
  "kernelspec": {
   "display_name": "Julia 1.8.1",
   "language": "julia",
   "name": "julia-1.8"
  },
  "language_info": {
   "name": "julia"
  },
  "orig_nbformat": 4
 },
 "nbformat": 4,
 "nbformat_minor": 2
}
