{
 "cells": [
  {
   "cell_type": "code",
   "execution_count": 1,
   "metadata": {},
   "outputs": [],
   "source": [
    "import cutde.fullspace as FS\n",
    "import numpy as np\n",
    "import matplotlib\n",
    "%matplotlib widget\n",
    "import matplotlib.pyplot as plt\n",
    "import pandas as pd\n",
    "import os \n",
    "from scipy.linalg import svd\n",
    "from operator import itemgetter\n",
    "import plotly.graph_objects as go\n",
    "from scipy.signal import resample, detrend, resample_poly\n",
    "from scipy.integrate import cumulative_trapezoid\n",
    "import matplotlib.dates as mdates\n",
    "from datetime import datetime, timedelta\n",
    "from operator import itemgetter"
   ]
  },
  {
   "cell_type": "code",
   "execution_count": 2,
   "metadata": {},
   "outputs": [],
   "source": [
    "\n",
    "wellcols=np.arange(12)\n",
    "WellGeom=pd.read_excel('/home/spri902/Collab_metadata/Well_Points.xlsx',header=0,usecols=wellcols)\n",
    "WellGeom.columns = WellGeom.columns.str.replace(' ','')\n",
    "WellGeom.x = WellGeom.x/3.28084\n",
    "WellGeom.y = WellGeom.y/3.28084\n",
    "WellGeom.z = WellGeom.z/3.28084"
   ]
  },
  {
   "cell_type": "code",
   "execution_count": 4,
   "metadata": {},
   "outputs": [],
   "source": [
    "\n",
    "os.chdir('/home/spri902/EGS_Collab/4850/fractures/')\n",
    "with open('frac_plane_points.npy','rb') as f:\n",
    "    x = np.load(f)\n",
    "otp = x[0:80,:]\n",
    "# otp = np.array(itemgetter(19,39,59)(x))\n",
    "ctr = otp.mean(axis=0)"
   ]
  },
  {
   "cell_type": "code",
   "execution_count": 5,
   "metadata": {},
   "outputs": [],
   "source": [
    "mwells=[]\n",
    "wellList = ['E1-OB','E1-OT','E1-PDT','E1-PDB','E1-PST','E1-PSB']\n",
    "for i in wellList:\n",
    "    tmpwell = WellGeom[WellGeom[\"HoleID\"]== i]\n",
    "    tmpwell = tmpwell.iloc[:,0:6]\n",
    "    mwells.append(tmpwell)\n",
    "mwells = pd.concat(mwells)\n",
    "\n",
    "swells=[]\n",
    "wellList = ['E1-I','E1-P']\n",
    "for i in wellList:\n",
    "    tmpwell = WellGeom[WellGeom[\"HoleID\"]== i]\n",
    "    tmpwell = tmpwell.iloc[:,0:6]\n",
    "    swells.append(tmpwell)\n",
    "swells = pd.concat(swells)\n",
    "\n",
    "# map DAS channel data to actual well coordinates\n",
    "PDTchans = np.r_[1271:1388]\n",
    "PDBchans = np.r_[1091:1210]\n",
    "PDBpnts = mwells[mwells['HoleID'] == 'E1-PDB' ].iloc[10::10,:] # take every 10th point (1 meter spacing along well)\n",
    "PDTpnts = mwells[mwells['HoleID'] == 'E1-PDT' ].iloc[10::10,:]"
   ]
  },
  {
   "cell_type": "code",
   "execution_count": null,
   "metadata": {},
   "outputs": [],
   "source": [
    "# fig=plt.figure()\n",
    "# ax = fig.add_subplot(projection='3d')\n",
    "# ax.scatter(x[80:,0],x[80:,1],x[80:,2],c='black')\n",
    "# ax.scatter(x[0:80,0],x[0:80,1],x[0:80,2],c='red')\n",
    "# ax.scatter(x[0,0],x[0,1],x[0,2],c='blue',s=40)\n",
    "# ax.scatter(x[19,0],x[19,1],x[19,2],c='blue',s=40)\n",
    "# ax.scatter(x[39,0],x[39,1],x[39,2],c='blue',s=40)\n",
    "# ax.scatter(x[59,0],x[59,1],x[59,2],c='blue',s=40)\n",
    "\n",
    "# s1=ax.scatter(mwells.x,mwells.y,mwells.z,\\\n",
    "#     label='Monitoring Wells',marker='.',color='black',s=2)\n",
    "# s2=ax.scatter(swells[swells['HoleID'] == 'E1-I'].x, swells[swells['HoleID'] == 'E1-I'].y, swells[swells['HoleID'] == 'E1-I'].z,\\\n",
    "#     label='Injector',marker='.',color='green',s=2)\n",
    "# s3=ax.scatter(swells[swells['HoleID']=='E1-P'].x, swells[swells['HoleID']=='E1-P'].y, swells[swells['HoleID']=='E1-P'].z,\\\n",
    "#     label='Producer',marker='.',color='red',s=2)"
   ]
  },
  {
   "cell_type": "markdown",
   "metadata": {},
   "source": [
    "### Fit Plane to OTP connector x,y,z points"
   ]
  },
  {
   "cell_type": "code",
   "execution_count": 6,
   "metadata": {},
   "outputs": [],
   "source": [
    "def planeFit(points):\n",
    "    \"\"\"\n",
    "    p, n = planeFit(points)\n",
    "\n",
    "    Given an array, points, of shape (d,...)\n",
    "    representing points in d-dimensional space,\n",
    "    fit an d-dimensional plane to the points.\n",
    "    Return a point, p, on the plane (the point-cloud centroid),\n",
    "    and the normal, n.\n",
    "    \"\"\"\n",
    "    points = np.reshape(points, (np.shape(points)[0], -1)) # Collapse trailing dimensions\n",
    "    assert points.shape[0] <= points.shape[1], \"There are only {} points in {} dimensions.\".format(points.shape[1], points.shape[0])\n",
    "    ctr = points.mean(axis=1)\n",
    "    x = points - ctr[:,np.newaxis]\n",
    "    # M = np.dot(x, x.T) # Could also use np.cov(x) here.\n",
    "    M = np.cov(x)\n",
    "    return ctr, svd(M)[0][:,-1]\n",
    "\n",
    "\n",
    "pctr, normvec = planeFit(otp.T)\n",
    "fittedPlane = -pctr.dot(normvec)"
   ]
  },
  {
   "cell_type": "markdown",
   "metadata": {},
   "source": [
    "### Now build points for fault plane and fault triangles \n",
    "Triangle vertices order:\n",
    "- top left, \n",
    "- top right, \n",
    "- bottom right, \n",
    "- bottom left"
   ]
  },
  {
   "cell_type": "code",
   "execution_count": 36,
   "metadata": {},
   "outputs": [],
   "source": [
    "# plot plane and \n",
    "xb = np.linspace(pctr[0]-10,pctr[0]+10,80)\n",
    "yb = np.linspace(pctr[1]-10,pctr[1]+10,80)\n",
    "# xb = otp[:,0]\n",
    "# yb = otp[:,1]\n",
    "xx,yy = np.meshgrid(xb,yb)\n",
    "zz = -(normvec[0] * xx + normvec[1] * yy + fittedPlane) * 1. /normvec[2]\n",
    " \n",
    "# points order top left, top right, bottom right, bottom left\n",
    "fault_pts = np.array(\n",
    "    (xx[-1,-1], yy[-1,-1], zz[-1,-1],\n",
    "    xx[0,-1], yy[0,-1], zz[0,-1],\n",
    "    xx[0,0], yy[0,0], zz[0,0],\n",
    "    xx[-1,0], yy[-1,0], zz[-1,0]\n",
    "    )).reshape(4,3)\n",
    "\n",
    "\n",
    "fault_tris = np.array([[0, 1, 2], [0, 2, 3]], dtype=np.int64)"
   ]
  },
  {
   "cell_type": "markdown",
   "metadata": {},
   "source": [
    "### Plot triangle mesh on fault plane"
   ]
  },
  {
   "cell_type": "code",
   "execution_count": null,
   "metadata": {},
   "outputs": [],
   "source": [
    "plt.figure()\n",
    "plt.triplot(fault_pts[:, 1], fault_pts[:, 2], fault_tris)\n",
    "plt.xlabel(\"y\")\n",
    "plt.ylabel(\"z\")\n",
    "plt.show()"
   ]
  },
  {
   "cell_type": "markdown",
   "metadata": {},
   "source": [
    "### Build observation points for TDE code"
   ]
  },
  {
   "cell_type": "code",
   "execution_count": 40,
   "metadata": {},
   "outputs": [],
   "source": [
    "nobs = 50\n",
    "xoff = [800,830]\n",
    "yoff = [-1320,-1270]\n",
    "zoff = [-220,440]\n",
    "xs = np.linspace(*xoff,nobs)\n",
    "ys = np.linspace(*yoff,nobs)\n",
    "zs = np.linspace(*zoff,nobs)\n",
    "obsx,obsy,obsz = np.meshgrid(xs,ys,zs)\n",
    "pts = np.array([obsx,obsy,obsz]).reshape((3,-1)).T.copy()\n",
    "nu=0.24"
   ]
  },
  {
   "cell_type": "markdown",
   "metadata": {},
   "source": [
    "### Plot the observation points "
   ]
  },
  {
   "cell_type": "code",
   "execution_count": null,
   "metadata": {},
   "outputs": [],
   "source": [
    "fig=plt.figure()\n",
    "ax = fig.add_subplot(projection='3d')\n",
    "ax.scatter(obsx,obsy,obsz,alpha=0.01)\n",
    "ax.plot_surface(xx, yy, zz,color='y',alpha=0.9,shade=True)\n",
    "# ax.scatter(xx,yy,zz)\n",
    "# ax.scatter(otp[:,0],otp[:,1],otp[:,2],c='r',marker='o')\n",
    "# ax.plot(pctr[0],pctr[1],pctr[2],'.m')\n",
    "s1=ax.scatter(mwells.x,mwells.y,mwells.z,\\\n",
    "    label='Monitoring Wells',marker='.',color='black',s=2)\n",
    "s2=ax.scatter(swells[swells['HoleID'] == 'E1-I'].x, swells[swells['HoleID'] == 'E1-I'].y, swells[swells['HoleID'] == 'E1-I'].z,\\\n",
    "    label='Injector',marker='.',color='green',s=2)\n",
    "s3=ax.scatter(swells[swells['HoleID']=='E1-P'].x, swells[swells['HoleID']=='E1-P'].y, swells[swells['HoleID']=='E1-P'].z,\\\n",
    "    label='Producer',marker='.',color='red',s=2)\n",
    "ax.scatter(fault_pts[:,0],fault_pts[:,1],fault_pts[:,2],marker='.',color='magenta',s=30)\n"
   ]
  },
  {
   "cell_type": "markdown",
   "metadata": {},
   "source": [
    "### Call the Full Space strain matrix function\n",
    "Inputs:\n",
    "- obs points\n",
    "- fault corners and triangle vertices\n",
    "- Poisson ratio"
   ]
  },
  {
   "cell_type": "code",
   "execution_count": 43,
   "metadata": {},
   "outputs": [],
   "source": [
    "strain_mat = FS.strain_matrix(obs_pts=pts, tris=fault_pts[fault_tris], nu=0.24)\n",
    "disp_mat = FS.disp_matrix(obs_pts=pts, tris=fault_pts[fault_tris], nu=0.24)"
   ]
  },
  {
   "cell_type": "markdown",
   "metadata": {},
   "source": [
    "### The strain output array is a (Npts, 6,Ntri,3 ) array \n",
    "The 2nd dimension refers to the components of the strain tensor (6)\n",
    "The 4th dimension refers to the components of the slip vector (3)\n",
    "\n",
    "Strain tensor:\n",
    "- 0 is xx\n",
    "- 1 is yy \n",
    "- 2 is zz\n",
    "- 3 is xy \n",
    "- 4 is xz \n",
    "- 5 is yz\n",
    "\n",
    "Slip vector:\n",
    "- 0 is strike slip\n",
    "- 1 is dip slip\n",
    "- 2 is tensile / opening"
   ]
  },
  {
   "cell_type": "code",
   "execution_count": 68,
   "metadata": {},
   "outputs": [],
   "source": [
    "# Sum over the 3rd component of the slip vector for tensile \n",
    "strain = np.sum(strain_mat[:,:,:,2], axis=2)\n",
    "# Reshape into a grid that is (npts,npts,6)\n",
    "strain = strain.reshape((obsy.shape[0], obsy.shape[1], obsy.shape[2], 6))"
   ]
  },
  {
   "cell_type": "markdown",
   "metadata": {},
   "source": [
    "### The displacement output array is a (Npts, 3,Ntri,3 ) array \n",
    "The 2nd dimension refers to the components of the displacement vector (3)\n",
    "The 4th dimension refers to the components of the slip vector (3)\n",
    "\n",
    "Displacement vector:\n",
    "- 0 is x\n",
    "- 1 is y \n",
    "- 2 is z\n",
    "\n",
    "\n",
    "Slip vector:\n",
    "- 0 is strike slip\n",
    "- 1 is dip slip\n",
    "- 2 is tensile / opening"
   ]
  },
  {
   "cell_type": "code",
   "execution_count": 64,
   "metadata": {},
   "outputs": [],
   "source": [
    "# Sum over the 3rd component of the slip vector for tensile \n",
    "disp = np.sum(disp_mat[:,:,:,2], axis=2)\n",
    "# Reshape into a grid that is (npts,npts,6)\n",
    "disp = disp.reshape((obsy.shape[0], obsy.shape[1], obsy.shape[2], 3))"
   ]
  },
  {
   "cell_type": "markdown",
   "metadata": {},
   "source": [
    "### Unpack the strain tensor and displacement vector into each component for plotting"
   ]
  },
  {
   "cell_type": "code",
   "execution_count": 65,
   "metadata": {},
   "outputs": [],
   "source": [
    "strnList = [0,1,2,3,4,5]\n",
    "c0,c1,c2,c3,c4,c5 = [*[strain[:,:,:, i] for i in strnList]]\n",
    "\n",
    "dispList = [0,1,2]\n",
    "d0,d1,d2 = [*[disp[:,:,:, i] for i in dispList]]"
   ]
  },
  {
   "cell_type": "code",
   "execution_count": null,
   "metadata": {},
   "outputs": [],
   "source": [
    "comp = c0\n",
    "fig = go.Figure(data=go.Volume(\n",
    "    x=obsx.flatten(),\n",
    "    y=obsy.flatten(),\n",
    "    z=obsz.flatten(),\n",
    "    value=comp.flatten(),\n",
    "    isomin=np.min(comp)*0.25,\n",
    "    isomax=np.max(comp)*0.25,\n",
    "    opacity=0.1,\n",
    "    # opacityscale='extremes', # needs to be small to see through all surfaces\n",
    "    surface_count=20, # needs to be a large number for good volume rendering\n",
    "    colorscale = 'RdBu_r'\n",
    "    ))\n",
    "fig.add_scatter3d(x=mwells.x, y=mwells.y, z=mwells.z,mode='markers',\n",
    "  marker=dict(\n",
    "        size=1,\n",
    "        color='black',                # set color to an array/list of desired values\n",
    "        # colorscale='Viridis',   # choose a colorscale\n",
    "        opacity=0.8))\n",
    "# fig.add_trace(go.Mesh3d(x=xx.flatten(),y=yy.flatten(),z=zz.flatten(),\n",
    "#         opacity=0.5,\n",
    "#         color='yellow'))\n",
    "fig.update_layout(\n",
    "  autosize=False,\n",
    "  width=1000,\n",
    "  height=1000,\n",
    ")\n",
    "fig.show()\n",
    "\n"
   ]
  },
  {
   "cell_type": "code",
   "execution_count": null,
   "metadata": {},
   "outputs": [],
   "source": [
    "comp = d0\n",
    "fig = go.Figure(data=go.Volume(\n",
    "    x=obsx.flatten(),\n",
    "    y=obsy.flatten(),\n",
    "    z=obsz.flatten(),\n",
    "    value=comp.flatten(),\n",
    "    isomin=np.min(comp)*.25,\n",
    "    isomax=np.max(comp)*.25,\n",
    "    opacity=0.1, # needs to be small to see through all surfaces\n",
    "    surface_count=17, # needs to be a large number for good volume rendering\n",
    "    ))\n",
    "fig.add_scatter3d(x=mwells.x, y=mwells.y, z=mwells.z,mode='markers',\n",
    "  marker=dict(\n",
    "        size=1,\n",
    "        color='black',                # set color to an array/list of desired values\n",
    "        # colorscale='Viridis',   # choose a colorscale\n",
    "        opacity=0.8))\n",
    "fig.update_layout(\n",
    "  autosize=False,\n",
    "  width=1000,\n",
    "  height=1000,\n",
    ")\n",
    "fig.show()"
   ]
  },
  {
   "cell_type": "code",
   "execution_count": 61,
   "metadata": {},
   "outputs": [],
   "source": [
    "df_fullB = pd.read_pickle('/home/spri902/EGS_Collab/4850/results/maystim/processed_DAS/lpFilter/wellPDB/maystim22_26_combined_full')\n",
    "df_fullT = pd.read_pickle('/home/spri902/EGS_Collab/4850/results/maystim/processed_DAS/lpFilter/wellPDT/maystim22_26_combined_full')\n",
    "dasScaler = 116.0\n",
    "df_fullB = df_fullB.multiply(dasScaler)\n",
    "df_fullT = df_fullT.multiply(dasScaler)\n",
    "df_fullB = detrend(df_fullB,axis=0,type='linear')\n",
    "df_fullT = detrend(df_fullT,axis=0,type='linear')"
   ]
  },
  {
   "cell_type": "code",
   "execution_count": null,
   "metadata": {},
   "outputs": [],
   "source": [
    "wn     = ['OT','OB','PST','PSB','PDB','PDT']\n",
    "nfile_list = sorted(os.walk('/data1/parker/EGS_iDAS'))\n",
    "nfile_list = nfile_list[1:]\n",
    "#file_list = file_list[1:]\n",
    "nfile_list = [group[2] for group in nfile_list]\n",
    "nfile_list = [item for sublist in nfile_list for item in sublist]\n",
    "# [file_list.append(f) for f in nfile_list]\n",
    "fd = [name.split(\"_\") for name in nfile_list]\n",
    "fl = [fd[file][2].split(\".\") for file in range(len(fd))]\n",
    "fl = [el[0] for el in fl]\n",
    "DASdates = [datetime.strptime(d,'%y%m%d%H%M%S') for d in sorted(fl)]\n",
    "# these are files that get skipped during the low pass filtering process and so the dates need to be removed \n",
    "ind2rem = [0, 90, 91, 257, 258, 1571, 1572, 3082, 3083, 5085, 5086, 5599, 5600, 5961, 5962, 7623, 7624, 8841, 8842, 9562]\n",
    "# remove in reverse so that the indices remain in the correct order for removal\n",
    "for index in sorted(ind2rem,reverse=True):\n",
    "    del DASdates[index]"
   ]
  },
  {
   "cell_type": "code",
   "execution_count": null,
   "metadata": {},
   "outputs": [],
   "source": [
    "# Bring in Injection data\n",
    "os.chdir('/home/spri902/EGS_Collab/4850/stimflow/')\n",
    "injFiles = sorted(os.listdir('/home/spri902/EGS_Collab/4850/stimflow/'))\n",
    "injDat = pd.concat((pd.read_csv(f,header=1,usecols=[0,2,4,24],\\\n",
    "                           parse_dates = [0],infer_datetime_format=True) \\\n",
    "                    for f in injFiles if f.endswith('.csv')),axis=0)\n",
    "injDat.rename(columns={'hh:mm:ss':'date','LPM':'QLPM','LPM.1':'TLPM','psig.9':'psig'},inplace=True)\n",
    "# tmp = pd.read_csv(injFiles[3],header=1,usecols=[0,16],\\\n",
    "                          # parse_dates=[0],infer_datetime_format=True)\n",
    "# tmp.rename(columns={'hh:mm:ss':'date','psig.2':'psig'},inplace=True)\n",
    "# injDat = pd.concat((injDat,tmp),axis=0)\n",
    "injDat.reset_index(drop = True,inplace = True)\n",
    "injDat.set_index('date',inplace=True)\n",
    "injDat = injDat.iloc[14650:]\n",
    "injDat = injDat[~injDat.index.duplicated(keep='first')]"
   ]
  },
  {
   "cell_type": "code",
   "execution_count": null,
   "metadata": {},
   "outputs": [],
   "source": [
    "directory = sorted(os.walk('/home/spri902/mayCASSM'))\n",
    "CASSMdates = [datetime.strptime(d,'%Y%m%d%H%M%S') for d in sorted(directory[0][1])]\n",
    "dasdnums = mdates.date2num(DASdates)\n",
    "cassmdnums = mdates.date2num(CASSMdates)\n",
    "DASintB = resample(df_fullB,len(cassmdnums[:-2]))\n",
    "DASintT = resample(df_fullT,len(cassmdnums[:-2]))\n",
    "chansB=np.linspace(0,df_fullB.shape[1] - 1,df_fullB.shape[1]).astype(int)\n",
    "chansT=np.linspace(0,df_fullT.shape[1] - 1,df_fullT.shape[1]).astype(int)\n",
    "stimbeg = [96, 224, 352, 472, 507]\n",
    "stimfin = [106, 232, 368, 475, 512]\n",
    "stimbegLines = itemgetter(*stimbeg)(CASSMdates)\n",
    "stimfinLines = itemgetter(*stimfin)(CASSMdates)\n",
    "df_strain_intB = cumulative_trapezoid(DASintB,axis=0,initial=0)\n",
    "df_strainB = cumulative_trapezoid(df_fullB,axis=0,initial=0) \n",
    "df_strain_intT = cumulative_trapezoid(DASintT,axis=0,initial=0)\n",
    "df_strainT = cumulative_trapezoid(df_fullT,axis=0,initial=0)"
   ]
  },
  {
   "cell_type": "code",
   "execution_count": null,
   "metadata": {},
   "outputs": [],
   "source": [
    "df_strainB_cut = df_strainB[7806,0:60]\n",
    "df_strainT_cut = df_strainT[7806,0:60]"
   ]
  },
  {
   "cell_type": "code",
   "execution_count": null,
   "metadata": {},
   "outputs": [],
   "source": [
    "fig, ax = plt.subplots(figsize=(14,6))\n",
    "vm=np.nanpercentile(df_strainT,99)\n",
    "# if vm < 0:\n",
    "#     img=ax.pcolormesh(DASdates,chans,df_full.T,cmap='RdBu',vmin=2*vm,vmax=vm+abs(vm))\n",
    "# if vm > 0:\n",
    "#     img=ax.pcolormesh(DASdates,chans,df_full.T,cmap='RdBu',vmin=vm/2,vmax=vm*2)\n",
    "img = ax.pcolormesh(DASdates,PDTpnts['Depth(m)'],df_strainT_cut.T,cmap='RdBu',vmin=-vm,vmax=vm)\n",
    "ax.invert_yaxis()\n",
    "ax.xaxis_date()\n"
   ]
  },
  {
   "cell_type": "code",
   "execution_count": null,
   "metadata": {},
   "outputs": [],
   "source": [
    "comp = c0\n",
    "fig = go.Figure()\n",
    "fig.add_scatter3d(x=PDTpnts.x, y=PDTpnts.y, z=PDTpnts.z,mode='markers',\n",
    "  marker=dict(\n",
    "        size=10,\n",
    "        color=comp.flatten(),                # set color to an array/list of desired values\n",
    "        colorscale='RdBu_r',   # choose a colorscale\n",
    "        opacity=0.8))\n",
    "# fig.add_trace(go.Mesh3d(x=otp[:,0],y=otp[:,1],z=otp[:,2],\n",
    "#         opacity=0.5,\n",
    "#         color='yellow'))\n",
    "fig.update_layout(\n",
    "  autosize=False,\n",
    "  width=1000,\n",
    "  height=1000,\n",
    ")\n",
    "fig.show()"
   ]
  },
  {
   "cell_type": "code",
   "execution_count": null,
   "metadata": {},
   "outputs": [],
   "source": []
  },
  {
   "cell_type": "code",
   "execution_count": null,
   "metadata": {},
   "outputs": [],
   "source": []
  }
 ],
 "metadata": {
  "kernelspec": {
   "display_name": "Python 3.9.13 ('obspy')",
   "language": "python",
   "name": "python3"
  },
  "language_info": {
   "codemirror_mode": {
    "name": "ipython",
    "version": 3
   },
   "file_extension": ".py",
   "mimetype": "text/x-python",
   "name": "python",
   "nbconvert_exporter": "python",
   "pygments_lexer": "ipython3",
   "version": "3.9.13"
  },
  "orig_nbformat": 4,
  "vscode": {
   "interpreter": {
    "hash": "58dcc157cae2c70039da6c5c30e2e6a4bafd07ea2e2d931bc31227249bf45b89"
   }
  }
 },
 "nbformat": 4,
 "nbformat_minor": 2
}
