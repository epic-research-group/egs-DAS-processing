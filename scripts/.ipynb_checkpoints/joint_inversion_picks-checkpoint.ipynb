{
 "cells": [
  {
   "cell_type": "code",
   "execution_count": 1,
   "id": "72147597",
   "metadata": {
    "tags": []
   },
   "outputs": [
    {
     "ename": "ModuleNotFoundError",
     "evalue": "No module named 'pandas'",
     "output_type": "error",
     "traceback": [
      "\u001b[0;31m---------------------------------------------------------------------------\u001b[0m",
      "\u001b[0;31mModuleNotFoundError\u001b[0m                       Traceback (most recent call last)",
      "\u001b[0;32m<ipython-input-1-b5c65d4f157c>\u001b[0m in \u001b[0;36m<module>\u001b[0;34m\u001b[0m\n\u001b[1;32m      8\u001b[0m \u001b[0;32mimport\u001b[0m \u001b[0mpickle\u001b[0m\u001b[0;34m\u001b[0m\u001b[0;34m\u001b[0m\u001b[0m\n\u001b[1;32m      9\u001b[0m \u001b[0;32mimport\u001b[0m \u001b[0mnumpy\u001b[0m \u001b[0;32mas\u001b[0m \u001b[0mnp\u001b[0m\u001b[0;34m\u001b[0m\u001b[0;34m\u001b[0m\u001b[0m\n\u001b[0;32m---> 10\u001b[0;31m \u001b[0;32mimport\u001b[0m \u001b[0mpandas\u001b[0m \u001b[0;32mas\u001b[0m \u001b[0mpd\u001b[0m\u001b[0;34m\u001b[0m\u001b[0;34m\u001b[0m\u001b[0m\n\u001b[0m\u001b[1;32m     11\u001b[0m \u001b[0;32mimport\u001b[0m \u001b[0mmatplotlib\u001b[0m\u001b[0;34m.\u001b[0m\u001b[0mpyplot\u001b[0m \u001b[0;32mas\u001b[0m \u001b[0mplt\u001b[0m\u001b[0;34m\u001b[0m\u001b[0;34m\u001b[0m\u001b[0m\n\u001b[1;32m     12\u001b[0m \u001b[0;32mimport\u001b[0m \u001b[0mos\u001b[0m\u001b[0;34m\u001b[0m\u001b[0;34m\u001b[0m\u001b[0m\n",
      "\u001b[0;31mModuleNotFoundError\u001b[0m: No module named 'pandas'"
     ]
    }
   ],
   "source": [
    "#!/usr/bin/env python3\n",
    "# -*- coding: utf-8 -*-\n",
    "\"\"\"\n",
    "@author: spri902\n",
    "\"\"\"\n",
    "#%%\n",
    "import ipympl\n",
    "#import pickle\n",
    "import numpy as np\n",
    "import pandas as pd\n",
    "import matplotlib.pyplot as plt\n",
    "import os\n",
    "from obspy.io.seg2.seg2 import _read_seg2\n",
    "import scaleogram as scg\n",
    "from phasepickers import *\n",
    "from scipy.signal import *\n",
    "from scipy import stats\n",
    "from scipy.optimize import curve_fit\n",
    "from tsmoothie.smoother import *\n",
    "\n",
    "# plt.rcParams['figure.figsize'] = [20,8]\n",
    "# plt.rcParams.update({'font.size': 22})"
   ]
  },
  {
   "cell_type": "code",
   "execution_count": null,
   "id": "a7630205",
   "metadata": {
    "tags": []
   },
   "outputs": [],
   "source": [
    "# subterGeom=pd.ExcelFile('/Users/spri902/Desktop/SubTER_BCD/SubTER/subTER_Source_rec.xls')\n",
    "# # e4dhead=pd.read_excel(subterGeom,'Header')\n",
    "# sourceW=pd.read_excel(subterGeom,'SourceW',header=1)\n",
    "# sourceS=pd.read_excel(subterGeom,'SourceS',header=1)\n",
    "# rcoordf=pd.read_excel(subterGeom,'PhonesN',header=1)\n",
    "# scoordf=pd.concat([sourceW,sourceS])\n",
    "# scoor=np.array(scoordf)\n",
    "# rcoor=np.array(rcoordf)\n",
    "# ch=rcoor[:,1].astype(int)\n",
    "# ns=len(scoor[:,1])\n",
    "# nr=len(rcoor[:,1])\n",
    "# freq=8       #frequency content (kHz)\n",
    "# unc=0.125    #data uncertainty (ms)"
   ]
  },
  {
   "cell_type": "code",
   "execution_count": null,
   "id": "1f164338",
   "metadata": {},
   "outputs": [],
   "source": [
    "date='20181022085901'\n",
    "# source='SourceS'\n",
    "OTtrigger_index=np.array([0])  \n",
    "OTtrigger_ptnl_index=[] \n",
    "OTtrigger_times=np.array([0])\n",
    "\n",
    "PSTtrigger_index=np.array([0])  \n",
    "PSTtrigger_ptnl_index=[] \n",
    "PSTtrigger_times=np.array([0])\n",
    "\n",
    "outlrs=np.array([])\n",
    "# trsnr=[]\n",
    "geom=[]\n",
    "# dfcols=['count','sourceID','receiverID','picktime','std']\n",
    "# geomdf=pd.DataFrame([])\n",
    "path=f'/home/spri902/EGS_Collab/{date}/'\n"
   ]
  },
  {
   "cell_type": "code",
   "execution_count": null,
   "id": "9827d0fe",
   "metadata": {},
   "outputs": [],
   "source": [
    "idx=0\n",
    "filelist=sorted(os.listdir(path))\n",
    "cnt=1\n",
    "#%%\n",
    "for filename in path:\n",
    "    if filename.endswith(\".dat\"):\n",
    "        nsigma=4\n",
    "        sthead=_read_seg2(path+filename,headonly=True)\n",
    "        times=sthead[0].times()\n",
    "        srcCh=CASSM_chanDecode(t=times,enc=sthead[93].data)\n",
    "        dt=sthead[0].stats.delta \n",
    "        st=sthead[0].stats.starttime\n",
    "        et=sthead[0].stats.endtime\n",
    "        sthead.trim(st,st + (dt*1999))\n",
    "        OTtr=sthead[70:79]\n",
    "        PSTtr=sthead[52:61]\n",
    "        OTdataN=np.stack(tr.data for tr in OTtr.traces).T\n",
    "        PSTdataN=np.stack(tr.data for tr in PSTtr.traces).T\n",
    "        #sthead.detrend(\"linear\") \n",
    "        #sthead.detrend(\"demean\")\n",
    "        #sthead.taper(type='hamming',max_percentage=0.5)\n",
    "         \n",
    "        t_ma=(sthead[0].stats.npts)*(sthead[0].stats.delta)/100 # time of moving avg window (trace length in seconds / 100 )\n",
    "        npts_Tma = int(round(t_ma/dt,0)) # number of samples in the moving avg window\n",
    "        slen = sthead[0].stats.npts # signal length\n",
    "        t = np.arange(0, slen / (1/dt), dt) # signal time vector\n",
    "        # srcID=scoordf[scoordf.isin([int(os.path.splitext(filename)[0])]).iloc[:,4:7].any(1)].iloc[0,0] # find sourceID from geometry file\n",
    "        # recID=rcoordf.iloc[:,0] #get receiverIDs\n",
    "        \n",
    "        # for ii in range(0,len(sthead)):\n",
    "        #     sthead[ii].filter('bandpass',freqmin=4000,freqmax=10000,corners=5,zerophase=True)\n",
    "            # trsnr.append((np.sqrt((np.sum(sthead[ii].data**2) - np.sum(sthead[ii].data)**2) / (slen - 1))))\n",
    "        for ii in range(len(OTtr)):\n",
    "        #     trsnr=(np.sqrt((np.sum(sthead[ii].data**2) - np.sum(sthead[ii].data)**2) / (slen - 1)))\n",
    "        #     if np.isnan(trsnr):\n",
    "                \n",
    "        #         cnt = cnt + 1\n",
    "        #         continue\n",
    "        #     elif trsnr < 60000:\n",
    "                \n",
    "        #         cnt = cnt + 1\n",
    "        #         continue\n",
    "            OTthresh=threshold(OTtr[ii],t_ma,nsigma)\n",
    "            PSTthresh=threshold(PSTtr[ii],t_ma,nsigma)\n",
    "            \n",
    "            OTtrigger_index = np.where(aic_parker(OTtr[ii][npts_Tma:slen]) > OTthresh[npts_Tma:slen])[0]\n",
    "            PSTtrigger_index = np.where(aic_parker(PSTtr[ii][npts_Tma:slen]) > PSTthresh[npts_Tma:slen])[0]\n",
    "            if OTtrigger_index.size == 0:\n",
    "                OTtrigger_index=np.append(np.argmax(aic_parker(OTtr[ii][npts_Tma:slen])),0)\n",
    "            if OTtrigger_index[0] <= npts_Tma:\n",
    "                OTtrigger_index = OTtrigger_index + np.array(1)    \n",
    "                \n",
    "            if PSTtrigger_index.size == 0:\n",
    "                PSTtrigger_index=np.append(np.argmax(aic_parker(PSTtr[ii][npts_Tma:slen])),0)\n",
    "            if PSTtrigger_index[0] <= npts_Tma:\n",
    "                PSTtrigger_index = PSTtrigger_index + np.array(1)                  \n",
    "            #trigger_index=trigger_index\n",
    "            OTtrigger_ptnl_index.append(OTtrigger_index[0]+2)\n",
    "            PSTtrigger_ptnl_index.append(PSTtrigger_index[0]+2)\n",
    "            # geom.append((cnt,srcID,recID[ii],t[trigger_index[0]],unc))\n",
    "            # cnt=cnt+1\n",
    "\n",
    "        OTtrigger_times = np.array(t[OTtrigger_ptnl_index])\n",
    "        OTtrigger_times=OTtrigger_times.reshape(-1,1)\n",
    "        \n",
    "        PSTtrigger_times = np.array(t[PSTtrigger_ptnl_index])\n",
    "        PSTtrigger_times=PSTtrigger_times.reshape(-1,1)\n",
    "        "
   ]
  },
  {
   "cell_type": "code",
   "execution_count": null,
   "id": "353b3105",
   "metadata": {},
   "outputs": [],
   "source": [
    "%matplotlib widget\n",
    "# for ii in range(len(sthead[39:41])):\n",
    "#     plt.figure(ii)\n",
    "#     plt.plot(times,dataN[:,ii])\n",
    "#     plt.plot([trigger_times[ii],trigger_times[ii]],[min(dataN[:,ii]),max(dataN[:,ii])], 'k--')\n",
    "plt.figure()\n",
    "seismic_wiggle(OTdataN,dt=dt,picktimes=OTtrigger_times,scale=1,color='k',trnormalize=True)\n",
    "plt.show()\n",
    "plt.figure()\n",
    "seismic_wiggle(PSTdataN,dt=dt,picktimes=PSTtrigger_times,scale=1,color='k',trnormalize=True)\n",
    "plt.show()\n",
    "# scg.cws(timevec,x,scales=np.logspace(0,8,num=256,endpoint=True,base=2),wavelet='cmor1.5-1.0',figsize=(14, 7), cmap=\"viridis\", cbar=None, ylabel=\"Period [seconds]\", xlabel=\"Time [seconds]\",yscale='log')"
   ]
  },
  {
   "cell_type": "code",
   "execution_count": null,
   "id": "adfd72da",
   "metadata": {},
   "outputs": [],
   "source": []
  },
  {
   "cell_type": "code",
   "execution_count": null,
   "id": "08fe8976",
   "metadata": {},
   "outputs": [],
   "source": []
  },
  {
   "cell_type": "code",
   "execution_count": null,
   "id": "61a68d11",
   "metadata": {},
   "outputs": [],
   "source": []
  },
  {
   "cell_type": "code",
   "execution_count": null,
   "id": "faf5d233",
   "metadata": {},
   "outputs": [],
   "source": []
  },
  {
   "cell_type": "code",
   "execution_count": null,
   "id": "7462b385",
   "metadata": {},
   "outputs": [],
   "source": []
  },
  {
   "cell_type": "code",
   "execution_count": null,
   "id": "f3e61393",
   "metadata": {},
   "outputs": [],
   "source": []
  },
  {
   "cell_type": "code",
   "execution_count": null,
   "id": "cb4b0d8c",
   "metadata": {},
   "outputs": [],
   "source": []
  },
  {
   "cell_type": "code",
   "execution_count": null,
   "id": "b20b034f",
   "metadata": {},
   "outputs": [],
   "source": []
  },
  {
   "cell_type": "code",
   "execution_count": null,
   "id": "fcf45bca",
   "metadata": {},
   "outputs": [],
   "source": []
  },
  {
   "cell_type": "code",
   "execution_count": null,
   "id": "aaa14d6d",
   "metadata": {},
   "outputs": [],
   "source": []
  }
 ],
 "metadata": {
  "kernelspec": {
   "display_name": "Python 3",
   "language": "python",
   "name": "python3"
  },
  "language_info": {
   "codemirror_mode": {
    "name": "ipython",
    "version": 3
   },
   "file_extension": ".py",
   "mimetype": "text/x-python",
   "name": "python",
   "nbconvert_exporter": "python",
   "pygments_lexer": "ipython3",
   "version": "3.9.5"
  },
  "toc-autonumbering": true,
  "toc-showmarkdowntxt": false
 },
 "nbformat": 4,
 "nbformat_minor": 5
}
